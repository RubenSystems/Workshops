{
  "nbformat": 4,
  "nbformat_minor": 0,
  "metadata": {
    "colab": {
      "provenance": []
    },
    "kernelspec": {
      "name": "python3",
      "display_name": "Python 3"
    },
    "language_info": {
      "name": "python"
    }
  },
  "cells": [
    {
      "cell_type": "markdown",
      "source": [
        "# Classifiers, Autoencoders, Transfer Learning and More...\n",
        "\n",
        "\n",
        "ChatGPT"
      ],
      "metadata": {
        "id": "Meepe8AxpkIn"
      }
    },
    {
      "cell_type": "code",
      "source": [
        "import tensorflow as tf\n",
        "import numpy as np\n",
        "import matplotlib.pyplot as plt"
      ],
      "metadata": {
        "id": "R3VjhF9Zp-Sj"
      },
      "execution_count": null,
      "outputs": []
    },
    {
      "cell_type": "code",
      "source": [
        "mnist = tf.keras.datasets.mnist\n",
        "\n",
        "(train_images, train_labels), (test_images, test_labels) = mnist.load_data()"
      ],
      "metadata": {
        "id": "hK9Zfbs6qLWv",
        "colab": {
          "base_uri": "https://localhost:8080/"
        },
        "outputId": "311eaafc-0cc6-4d58-fdc2-6a21aab07dc3"
      },
      "execution_count": null,
      "outputs": [
        {
          "output_type": "stream",
          "name": "stdout",
          "text": [
            "Downloading data from https://storage.googleapis.com/tensorflow/tf-keras-datasets/mnist.npz\n",
            "11490434/11490434 [==============================] - 0s 0us/step\n"
          ]
        }
      ]
    },
    {
      "cell_type": "markdown",
      "source": [
        "Example image from the dataset:"
      ],
      "metadata": {
        "id": "FHEmwLEMqf3k"
      }
    },
    {
      "cell_type": "code",
      "source": [
        "image_index = 200\n",
        "\n",
        "plt.figure()\n",
        "plt.imshow(train_images[image_index], cmap=plt.cm.binary)\n",
        "plt.xlabel(train_labels[image_index])\n",
        "plt.show()"
      ],
      "metadata": {
        "colab": {
          "base_uri": "https://localhost:8080/",
          "height": 279
        },
        "id": "gofuN2iIqbs1",
        "outputId": "e808ea87-569e-46b3-be7b-0512e299240d"
      },
      "execution_count": null,
      "outputs": [
        {
          "output_type": "display_data",
          "data": {
            "text/plain": [
              "<Figure size 432x288 with 1 Axes>"
            ],
            "image/png": "[encoded data removed]"
          },
          "metadata": {
            "needs_background": "light"
          }
        }
      ]
    },
    {
      "cell_type": "markdown",
      "source": [
        "Convert to a more usable format "
      ],
      "metadata": {
        "id": "WUKtj_OVqs7B"
      }
    },
    {
      "cell_type": "code",
      "source": [
        "train_images = (train_images / 255.0).astype(\"float32\") \n",
        "test_images = (test_images / 255.0).astype(\"float32\")\n",
        "\n",
        "# 255 => 1 \n",
        "# 0 => 0 \n",
        "# 127.5 => 0.5"
      ],
      "metadata": {
        "id": "iRvALnbPqve0"
      },
      "execution_count": null,
      "outputs": []
    },
    {
      "cell_type": "markdown",
      "source": [
        "# Define the model \n",
        "\n",
        "Autoencoders typically compress the data before decompressing it. \n"
      ],
      "metadata": {
        "id": "Xj47oG5CrZTr"
      }
    },
    {
      "cell_type": "code",
      "source": [
        "image_width = train_images.shape[1]\n",
        "image_height = train_images.shape[2]\n",
        "\n",
        "train_images.shape"
      ],
      "metadata": {
        "id": "1m91Bfg7r-Iz",
        "colab": {
          "base_uri": "https://localhost:8080/"
        },
        "outputId": "5f4ec3ae-1b0d-4ca9-ad2d-f041f7c3b542"
      },
      "execution_count": null,
      "outputs": [
        {
          "output_type": "execute_result",
          "data": {
            "text/plain": [
              "(60000, 28, 28)"
            ]
          },
          "metadata": {},
          "execution_count": 5
        }
      ]
    },
    {
      "cell_type": "code",
      "source": [
        "model = tf.keras.Sequential([\n",
        "    tf.keras.layers.Flatten(input_shape=(image_width, image_height)),\n",
        "    tf.keras.layers.Dense(128, activation='relu'),\n",
        "    tf.keras.layers.Dense(10),\n",
        "    tf.keras.layers.Softmax()\n",
        "])"
      ],
      "metadata": {
        "id": "3JaFER_XrX_p"
      },
      "execution_count": null,
      "outputs": []
    },
    {
      "cell_type": "code",
      "source": [
        "model.compile(\n",
        "    optimizer='adam',\n",
        "    loss=tf.keras.losses.SparseCategoricalCrossentropy(),\n",
        ")"
      ],
      "metadata": {
        "id": "9FSw09-0s6Np"
      },
      "execution_count": null,
      "outputs": []
    },
    {
      "cell_type": "code",
      "source": [
        "stats = model.fit(\n",
        "  train_images, \n",
        "  train_labels,\n",
        "  epochs=10,\n",
        "  verbose= False\n",
        ")"
      ],
      "metadata": {
        "id": "aOy0FnvEtHB9"
      },
      "execution_count": null,
      "outputs": []
    },
    {
      "cell_type": "code",
      "source": [
        "plt.plot(stats.history['loss'], label='loss')\n",
        "plt.xlabel('Epoch')\n",
        "plt.ylabel('Error')\n",
        "plt.legend()\n",
        "plt.grid(True)"
      ],
      "metadata": {
        "colab": {
          "base_uri": "https://localhost:8080/",
          "height": 279
        },
        "id": "_Ro94pKxvakl",
        "outputId": "d368f1d4-f2a5-4201-8a13-8fa3cb067c29"
      },
      "execution_count": null,
      "outputs": [
        {
          "output_type": "display_data",
          "data": {
            "text/plain": [
              "<Figure size 432x288 with 1 Axes>"
            ],
            "image/png": "[encoded data removed]"
          },
          "metadata": {
            "needs_background": "light"
          }
        }
      ]
    },
    {
      "cell_type": "code",
      "source": [
        "predict_value = 1\n",
        "\n",
        "prediction_first_val = model.predict(np.array([test_images[predict_value]]))\n",
        "\n",
        "print(prediction_first_val[0])\n",
        "print()\n",
        "print(sum(prediction_first_val[0]))"
      ],
      "metadata": {
        "colab": {
          "base_uri": "https://localhost:8080/"
        },
        "id": "lhTU17sBvjtQ",
        "outputId": "3385148c-0306-4116-ae88-90e801be8b52"
      },
      "execution_count": null,
      "outputs": [
        {
          "output_type": "stream",
          "name": "stdout",
          "text": [
            "1/1 [==============================] - 0s 76ms/step\n",
            "[2.5871413e-11 2.2921474e-06 9.9999762e-01 2.8009747e-08 4.1171630e-19\n",
            " 3.7239406e-08 1.1322450e-11 1.7253710e-15 3.9774339e-09 1.1255715e-16]\n",
            "\n",
            "0.9999999772254207\n"
          ]
        }
      ]
    },
    {
      "cell_type": "markdown",
      "source": [
        "Get the predicted value: "
      ],
      "metadata": {
        "id": "rWgzepmOwVZc"
      }
    },
    {
      "cell_type": "code",
      "source": [
        "print(np.argmax(prediction_first_val), test_labels[predict_value])"
      ],
      "metadata": {
        "colab": {
          "base_uri": "https://localhost:8080/"
        },
        "id": "v7fcILEPwXIG",
        "outputId": "6199dcfc-0ca4-4c7f-beae-049c4b5798f2"
      },
      "execution_count": null,
      "outputs": [
        {
          "output_type": "stream",
          "name": "stdout",
          "text": [
            "2 2\n"
          ]
        }
      ]
    },
    {
      "cell_type": "markdown",
      "source": [
        "# Autoencoders"
      ],
      "metadata": {
        "id": "qVvkyyp0wIi0"
      }
    },
    {
      "cell_type": "markdown",
      "source": [
        "**Generative machine learning**\n",
        "\n",
        "Rather than discriminative"
      ],
      "metadata": {
        "id": "hSToeEUKwLrU"
      }
    },
    {
      "cell_type": "code",
      "source": [
        "latent_dim = 32\n",
        "\n",
        "reduction = (latent_dim - (image_width * image_height)) / (image_width * image_height)\n",
        "\n",
        "print(f\"{abs(reduction * 100)}%\")"
      ],
      "metadata": {
        "colab": {
          "base_uri": "https://localhost:8080/"
        },
        "id": "90MxJ5HhzN6A",
        "outputId": "000d1efb-3fdd-42be-c54c-615b0c15de72"
      },
      "execution_count": null,
      "outputs": [
        {
          "output_type": "stream",
          "name": "stdout",
          "text": [
            "95.91836734693877%\n"
          ]
        }
      ]
    },
    {
      "cell_type": "code",
      "source": [
        "class Autoencoder(tf.keras.models.Model):\n",
        "  def __init__(self, latent_dim):\n",
        "    super(Autoencoder, self).__init__()\n",
        "\n",
        "    self.encoder = tf.keras.Sequential([\n",
        "       tf.keras.layers.Flatten(),\n",
        "       tf.keras.layers.Dense(128, activation='relu'),\n",
        "       tf.keras.layers.Dense(latent_dim, activation='relu'),\n",
        "    ])\n",
        "\n",
        "    self.decoder = tf.keras.Sequential([\n",
        "      tf.keras.layers.Dense(128, activation='relu'),\n",
        "      tf.keras.layers.Dense(image_width * image_height, activation='sigmoid'),\n",
        "      tf.keras.layers.Reshape((image_width, image_height))\n",
        "    ])\n",
        "\n",
        "  def call(self, x):\n",
        "    encoded = self.encoder(x)\n",
        "    decoded = self.decoder(encoded)\n",
        "    return decoded"
      ],
      "metadata": {
        "id": "x-gcxx90xJZP"
      },
      "execution_count": null,
      "outputs": []
    },
    {
      "cell_type": "code",
      "source": [
        "autoencoder = Autoencoder(latent_dim)"
      ],
      "metadata": {
        "id": "UBw5h97Yxh4U"
      },
      "execution_count": null,
      "outputs": []
    },
    {
      "cell_type": "code",
      "source": [
        "autoencoder.compile(optimizer='adam', loss=\"mean_squared_error\")"
      ],
      "metadata": {
        "id": "mDUuzRoMxr0C"
      },
      "execution_count": null,
      "outputs": []
    },
    {
      "cell_type": "code",
      "source": [
        "stats = autoencoder.fit(\n",
        "    train_images, \n",
        "    train_images,\n",
        "    epochs=10,\n",
        "    shuffle=True,\n",
        "    validation_data=(test_images, test_images)\n",
        ")"
      ],
      "metadata": {
        "colab": {
          "base_uri": "https://localhost:8080/"
        },
        "id": "DDB0nbroxvij",
        "outputId": "2ab6733c-ab1d-47db-9488-4b5b9b543f3e"
      },
      "execution_count": null,
      "outputs": [
        {
          "output_type": "stream",
          "name": "stdout",
          "text": [
            "Epoch 1/10\n",
            "1875/1875 [==============================] - 10s 5ms/step - loss: 0.0252 - val_loss: 0.0138\n",
            "Epoch 2/10\n",
            "1875/1875 [==============================] - 9s 5ms/step - loss: 0.0125 - val_loss: 0.0109\n",
            "Epoch 3/10\n",
            "1875/1875 [==============================] - 9s 5ms/step - loss: 0.0106 - val_loss: 0.0099\n",
            "Epoch 4/10\n",
            "1875/1875 [==============================] - 9s 5ms/step - loss: 0.0097 - val_loss: 0.0091\n",
            "Epoch 5/10\n",
            "1875/1875 [==============================] - 9s 5ms/step - loss: 0.0091 - val_loss: 0.0087\n",
            "Epoch 6/10\n",
            "1875/1875 [==============================] - 9s 5ms/step - loss: 0.0087 - val_loss: 0.0084\n",
            "Epoch 7/10\n",
            "1875/1875 [==============================] - 9s 5ms/step - loss: 0.0084 - val_loss: 0.0081\n",
            "Epoch 8/10\n",
            "1875/1875 [==============================] - 9s 5ms/step - loss: 0.0081 - val_loss: 0.0078\n",
            "Epoch 9/10\n",
            "1875/1875 [==============================] - 9s 5ms/step - loss: 0.0079 - val_loss: 0.0078\n",
            "Epoch 10/10\n",
            "1875/1875 [==============================] - 9s 5ms/step - loss: 0.0078 - val_loss: 0.0078\n"
          ]
        }
      ]
    },
    {
      "cell_type": "code",
      "source": [
        "plt.plot(stats.history['loss'], label='loss')\n",
        "plt.xlabel('Epoch')\n",
        "plt.ylabel('Error')\n",
        "plt.legend()\n",
        "plt.grid(True)"
      ],
      "metadata": {
        "colab": {
          "base_uri": "https://localhost:8080/",
          "height": 279
        },
        "id": "lW1GZEON0H26",
        "outputId": "f64de974-4a22-4af8-b64e-05e7ff1ccbb2"
      },
      "execution_count": null,
      "outputs": [
        {
          "output_type": "display_data",
          "data": {
            "text/plain": [
              "<Figure size 432x288 with 1 Axes>"
            ],
            "image/png": "[encoded data removed]"
          },
          "metadata": {
            "needs_background": "light"
          }
        }
      ]
    },
    {
      "cell_type": "markdown",
      "source": [
        "Try compression and then decompression"
      ],
      "metadata": {
        "id": "5kpsLUAT0ySQ"
      }
    },
    {
      "cell_type": "code",
      "source": [
        "encoded_imgs = autoencoder.encoder(test_images).numpy()\n",
        "decoded_imgs = autoencoder.decoder(encoded_imgs).numpy()"
      ],
      "metadata": {
        "id": "YYp-Ju-y01dY"
      },
      "execution_count": null,
      "outputs": []
    },
    {
      "cell_type": "code",
      "source": [
        "n = 10\n",
        "plt.figure(figsize=(20, 4))\n",
        "for i in range(n):\n",
        "  ax = plt.subplot(2, n, i + 1)\n",
        "  plt.imshow(test_images[i])\n",
        "  plt.title(\"original\")\n",
        "  plt.gray()\n",
        "  ax.get_xaxis().set_visible(False)\n",
        "  ax.get_yaxis().set_visible(False)\n",
        "\n",
        "  # display reconstruction\n",
        "  ax = plt.subplot(2, n, i + 1 + n)\n",
        "  plt.imshow(decoded_imgs[i])\n",
        "  plt.title(\"reconstructed\")\n",
        "  plt.gray()\n",
        "  ax.get_xaxis().set_visible(False)\n",
        "  ax.get_yaxis().set_visible(False)\n",
        "plt.show()"
      ],
      "metadata": {
        "colab": {
          "base_uri": "https://localhost:8080/",
          "height": 264
        },
        "id": "ZOyREGam084p",
        "outputId": "8b0c0876-4cde-4037-a8da-403f4327828e"
      },
      "execution_count": null,
      "outputs": [
        {
          "output_type": "display_data",
          "data": {
            "text/plain": [
              "<Figure size 1440x288 with 20 Axes>"
            ],
            "image/png": "[encoded data removed]"
          },
          "metadata": {
            "needs_background": "light"
          }
        }
      ]
    },
    {
      "cell_type": "markdown",
      "source": [
        "**Transfer Learning**\n",
        "\n",
        "Finetuning previous models that have been pretrained\n",
        "\n",
        "Less boring wait times"
      ],
      "metadata": {
        "id": "2SRfvmStRzIc"
      }
    },
    {
      "cell_type": "code",
      "source": [
        "transfer_model = tf.keras.Sequential([\n",
        "    autoencoder.encoder,\n",
        "    tf.keras.layers.Dense(2),\n",
        "    tf.keras.layers.Softmax()\n",
        "])"
      ],
      "metadata": {
        "id": "b-fMLu6oAICx"
      },
      "execution_count": null,
      "outputs": []
    },
    {
      "cell_type": "code",
      "source": [
        "transfer_model.compile(\n",
        "    optimizer='adam',\n",
        "    loss=tf.keras.losses.SparseCategoricalCrossentropy(),\n",
        "    metrics=['accuracy']\n",
        ")"
      ],
      "metadata": {
        "id": "QfqRSspDSPgS"
      },
      "execution_count": null,
      "outputs": []
    },
    {
      "cell_type": "code",
      "source": [
        "binary_data = np.array([\n",
        "    0 if x < 5 else 1 \n",
        "    for x in train_labels\n",
        "])\n",
        "\n",
        "print(binary_data)"
      ],
      "metadata": {
        "colab": {
          "base_uri": "https://localhost:8080/"
        },
        "id": "acP31DWGdei9",
        "outputId": "b4afa23b-97b6-43db-af0a-bd2b689de600"
      },
      "execution_count": null,
      "outputs": [
        {
          "output_type": "stream",
          "name": "stdout",
          "text": [
            "[1 0 0 ... 1 1 1]\n"
          ]
        }
      ]
    },
    {
      "cell_type": "code",
      "source": [
        "stats_v3 = transfer_model.fit(\n",
        "  train_images, \n",
        "  binary_data,\n",
        "  epochs=1,\n",
        "  verbose= True\n",
        ")"
      ],
      "metadata": {
        "id": "ASxO87uDSUPb",
        "colab": {
          "base_uri": "https://localhost:8080/"
        },
        "outputId": "91a52948-3a52-4667-bd77-f39134824c1f"
      },
      "execution_count": null,
      "outputs": [
        {
          "output_type": "stream",
          "name": "stdout",
          "text": [
            "1875/1875 [==============================] - 6s 3ms/step - loss: 0.1927 - accuracy: 0.9360\n"
          ]
        }
      ]
    },
    {
      "cell_type": "code",
      "source": [
        "image_to_predict = 50\n",
        "\n",
        "image = np.array([test_images[image_to_predict]])\n",
        "\n",
        "\n",
        "prediction_first_val_v2 = transfer_model.predict(image)\n",
        "\n",
        "print(f\"VALUE: \\t\\t{test_labels[image_to_predict]}\")\n",
        "print(f\"PREDICTION: \\t{np.argmax(prediction_first_val_v2)}\")"
      ],
      "metadata": {
        "colab": {
          "base_uri": "https://localhost:8080/"
        },
        "id": "NmMgNF0ETDaB",
        "outputId": "a2771aab-523f-4161-f79e-87781ff61e68"
      },
      "execution_count": null,
      "outputs": [
        {
          "output_type": "stream",
          "name": "stdout",
          "text": [
            "1/1 [==============================] - 0s 76ms/step\n",
            "VALUE: \t\t6\n",
            "PREDICTION: \t1\n"
          ]
        }
      ]
    }
  ]
}