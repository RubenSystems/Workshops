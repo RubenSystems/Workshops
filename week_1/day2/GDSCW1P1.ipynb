{
  "nbformat": 4,
  "nbformat_minor": 0,
  "metadata": {
    "colab": {
      "provenance": []
    },
    "kernelspec": {
      "name": "python3",
      "display_name": "Python 3"
    },
    "language_info": {
      "name": "python"
    }
  },
  "cells": [
    {
      "cell_type": "markdown",
      "source": [
        "# Neural net intro\n"
      ],
      "metadata": {
        "id": "So1VTyw_26Xi"
      }
    },
    {
      "cell_type": "code",
      "source": [
        "import matplotlib.pyplot as plt\n",
        "import numpy as np\n",
        "import tensorflow as tf"
      ],
      "metadata": {
        "id": "Cg84PoYa7En3"
      },
      "execution_count": 1,
      "outputs": []
    },
    {
      "cell_type": "markdown",
      "source": [
        "**Basic Dataset**"
      ],
      "metadata": {
        "id": "xkJfuZZk-rti"
      }
    },
    {
      "cell_type": "code",
      "execution_count": 40,
      "metadata": {
        "id": "LNqrShov25pJ"
      },
      "outputs": [],
      "source": [
        "n = 5\n",
        "\n",
        "roots = np.random.uniform(-2, 3, n)\n",
        "polyCoefficients = np.poly(roots) \n",
        "\n",
        "X = np.arange(-20, 20) \n",
        "y = np.polyval(polyCoefficients, X) \n"
      ]
    },
    {
      "cell_type": "code",
      "source": [
        "plt.plot(X, y)"
      ],
      "metadata": {
        "colab": {
          "base_uri": "https://localhost:8080/",
          "height": 293
        },
        "id": "f2xiJ_Ls7oF5",
        "outputId": "b79b4938-2dbd-489f-9cf7-0fbb9c9056f3"
      },
      "execution_count": 41,
      "outputs": [
        {
          "output_type": "execute_result",
          "data": {
            "text/plain": [
              "[<matplotlib.lines.Line2D at 0x7f134d2826a0>]"
            ]
          },
          "metadata": {},
          "execution_count": 41
        },
        {
          "output_type": "display_data",
          "data": {
            "text/plain": [
              "<Figure size 432x288 with 1 Axes>"
            ],
            "image/png": "[encoded data removed]"
          },
          "metadata": {
            "needs_background": "light"
          }
        }
      ]
    },
    {
      "cell_type": "code",
      "source": [
        "X = X.reshape((X.shape[0], 1))\n",
        "\n",
        "print(X, y)"
      ],
      "metadata": {
        "colab": {
          "base_uri": "https://localhost:8080/"
        },
        "id": "cbSs7zs4YnMz",
        "outputId": "bf55f41a-d660-4714-c0c9-d983eb9c67c1"
      },
      "execution_count": 42,
      "outputs": [
        {
          "output_type": "stream",
          "name": "stdout",
          "text": [
            "[[-20]\n",
            " [-19]\n",
            " [-18]\n",
            " [-17]\n",
            " [-16]\n",
            " [-15]\n",
            " [-14]\n",
            " [-13]\n",
            " [-12]\n",
            " [-11]\n",
            " [-10]\n",
            " [ -9]\n",
            " [ -8]\n",
            " [ -7]\n",
            " [ -6]\n",
            " [ -5]\n",
            " [ -4]\n",
            " [ -3]\n",
            " [ -2]\n",
            " [ -1]\n",
            " [  0]\n",
            " [  1]\n",
            " [  2]\n",
            " [  3]\n",
            " [  4]\n",
            " [  5]\n",
            " [  6]\n",
            " [  7]\n",
            " [  8]\n",
            " [  9]\n",
            " [ 10]\n",
            " [ 11]\n",
            " [ 12]\n",
            " [ 13]\n",
            " [ 14]\n",
            " [ 15]\n",
            " [ 16]\n",
            " [ 17]\n",
            " [ 18]\n",
            " [ 19]] [-4.24886534e+06 -3.33493742e+06 -2.58545023e+06 -1.97715187e+06\n",
            " -1.48909252e+06 -1.10250446e+06 -8.00682047e+05 -5.68861718e+05\n",
            " -3.94101995e+05 -2.65163485e+05 -1.72388876e+05 -1.07582940e+05\n",
            " -6.38925319e+04 -3.56865911e+04 -1.84361391e+04 -8.59428080e+03\n",
            " -3.47620452e+03 -1.13918171e+03 -2.62567108e+02 -2.77986700e+01\n",
            "  1.60240561e+00  3.16841461e-02 -1.98506586e-01  1.11409241e+01\n",
            "  1.42195830e+02  7.19028826e+02  2.40561929e+03  6.32386337e+03\n",
            "  1.41735740e+04  2.83524807e+04  5.20762301e+04  8.94983853e+04\n",
            "  1.45830426e+05  2.27461750e+05  3.42079669e+05  4.98789415e+05\n",
            "  7.08234134e+05  9.82714889e+05  1.33631066e+06  1.78499835e+06]\n"
          ]
        }
      ]
    },
    {
      "cell_type": "markdown",
      "source": [
        "# Create a model\n",
        "\n",
        "![nn(1).svg](data:image/svg+xml;base64,PHN2ZyB4bWxucz0iaHR0cDovL3d3dy53My5vcmcvMjAwMC9zdmciIHN0eWxlPSJjdXJzb3I6IG1vdmU7IiB3aWR0aD0iMTI4MCIgaGVpZ2h0PSI4NDIiPjxnPjxwYXRoIGNsYXNzPSJsaW5rIiBzdHlsZT0ic3Ryb2tlLXdpZHRoOiAwLjVweDsgc3Ryb2tlLW9wYWNpdHk6IDE7IHN0cm9rZTogcmdiKDgwLCA4MCwgODApOyIgbWFya2VyLWVuZD0iIiBkPSJNNTk0LDQxMSwgNjYwLDQxMSI+PC9wYXRoPjxwYXRoIGNsYXNzPSJsaW5rIiBzdHlsZT0ic3Ryb2tlLXdpZHRoOiAwLjVweDsgc3Ryb2tlLW9wYWNpdHk6IDE7IHN0cm9rZTogcmdiKDgwLCA4MCwgODApOyIgbWFya2VyLWVuZD0iIiBkPSJNNjYwLDQxMSwgNzI2LDQxMSI+PC9wYXRoPjxjaXJjbGUgcj0iMTAiIGNsYXNzPSJub2RlIiBpZD0iMF8wIiBzdHlsZT0iZmlsbDogcmdiKDI1NSwgMjU1LCAyNTUpOyBzdHJva2U6IHJnYig1MSwgNTEsIDUxKTsiIGN4PSI1OTQiIGN5PSI0MTEiPjwvY2lyY2xlPjxjaXJjbGUgcj0iMTAiIGNsYXNzPSJub2RlIiBpZD0iMV8wIiBzdHlsZT0iZmlsbDogcmdiKDI1NSwgMjU1LCAyNTUpOyBzdHJva2U6IHJnYig1MSwgNTEsIDUxKTsiIGN4PSI2NjAiIGN5PSI0MTEiPjwvY2lyY2xlPjx0ZXh0IGNsYXNzPSJ0ZXh0IiBkeT0iLjM1ZW0iIHN0eWxlPSJmb250LXNpemU6IDEycHg7IiB4PSI1NTkiIHk9IjQ1MSI+PC90ZXh0Pjx0ZXh0IGNsYXNzPSJ0ZXh0IiBkeT0iLjM1ZW0iIHN0eWxlPSJmb250LXNpemU6IDEycHg7IiB4PSI2MjUiIHk9IjQ1MSI+PC90ZXh0PjxjaXJjbGUgcj0iMTAiIGNsYXNzPSJub2RlIiBpZD0iMl8wIiBzdHlsZT0iZmlsbDogcmdiKDI1NSwgMjU1LCAyNTUpOyBzdHJva2U6IHJnYig1MSwgNTEsIDUxKTsiIGN4PSI3MjYiIGN5PSI0MTEiPjwvY2lyY2xlPjx0ZXh0IGNsYXNzPSJ0ZXh0IiBkeT0iLjM1ZW0iIHN0eWxlPSJmb250LXNpemU6IDEycHg7IiB4PSI2OTEiIHk9IjQ1MSI+PC90ZXh0PjwvZz48ZGVmcz48bWFya2VyIGlkPSJhcnJvdyIgdmlld0JveD0iMCAtNSAxMCAxMCIgbWFya2VyV2lkdGg9IjciIG1hcmtlckhlaWdodD0iNyIgb3JpZW50PSJhdXRvIiByZWZYPSI0MCI+PHBhdGggZD0iTTAsLTVMMTAsMEwwLDUiIHN0eWxlPSJzdHJva2U6IHJnYig4MCwgODAsIDgwKTsgZmlsbDogbm9uZTsiPjwvcGF0aD48L21hcmtlcj48L2RlZnM+PC9zdmc+)"
      ],
      "metadata": {
        "id": "nHrm8zvQ-8qs"
      }
    },
    {
      "cell_type": "code",
      "source": [
        "model = tf.keras.models.Sequential([\n",
        "  tf.keras.layers.Dense(1, input_shape=(1,))\n",
        "])"
      ],
      "metadata": {
        "id": "C0QVazst-Tqe"
      },
      "execution_count": 33,
      "outputs": []
    },
    {
      "cell_type": "markdown",
      "source": [
        "A neural network is initialized by setting the values of the network's weights and biases to initial values, typically chosen randomly. This process ensures that the network starts with a unique configuration, and helps to prevent the network from getting stuck in a local minimum or converging to the same solution as other networks.\n",
        "\n",
        "The choice of initialization method can have a significant impact on the performance of a neural network. In general, it is important to choose an initialization method that is well-suited to the specific characteristics of the network and the task it is being trained for. \n",
        "\n",
        "Below is an example of the random initalisation"
      ],
      "metadata": {
        "id": "dBFmso1a_HlY"
      }
    },
    {
      "cell_type": "code",
      "source": [
        "prediction = model(X[:1]).numpy()\n",
        "prediction"
      ],
      "metadata": {
        "colab": {
          "base_uri": "https://localhost:8080/"
        },
        "id": "0JwZTxST_J4j",
        "outputId": "4d4c81d9-0ff8-4edc-ead1-781652ae57d6"
      },
      "execution_count": 34,
      "outputs": [
        {
          "output_type": "execute_result",
          "data": {
            "text/plain": [
              "array([[-19.526026]], dtype=float32)"
            ]
          },
          "metadata": {},
          "execution_count": 34
        }
      ]
    },
    {
      "cell_type": "markdown",
      "source": [
        "Training a neural network involves feeding it a large number of examples, along with the correct output or prediction. The network uses these examples to adjust the values of its internal parameters, called weights and biases, in order to improve its ability to make accurate predictions.\n",
        "\n",
        "This process is typically repeated many times. As the network processes each example, it compares its own prediction to the correct output, and uses this comparison to calculate an error value. The error value is then used to update the network's weights and biases in a way that reduces the overall error and improves the network's accuracy.\n",
        "\n",
        "The goal of training is to find a set of weights and biases that enable the network to make accurate predictions on new data, and to generalize well to data that it has not seen before.\n",
        "\n"
      ],
      "metadata": {
        "id": "hzj1r8vnT4w8"
      }
    },
    {
      "cell_type": "markdown",
      "source": [
        "**Calculating an error value**\n",
        "\n",
        "Mean squared error (MSE) is a measure of the difference between the predicted value of a model and the true value of the data that the model is trying to predict. It is commonly used as a loss function in machine learning algorithms, especially in regression tasks where the goal is to predict a numerical value.\n",
        "\n",
        "To calculate the mean squared error, the difference between the predicted value and the true value is squared for each data point, and then the average of these squared differences is taken over all data points. This gives a measure of the average error that the model makes on the data, and can be used to evaluate the performance of the model."
      ],
      "metadata": {
        "id": "yTMyzqMRUbga"
      }
    },
    {
      "cell_type": "code",
      "source": [
        "loss_function = tf.keras.losses.MeanSquaredError()\n",
        "loss_value = loss_function(y[:1], predictions).numpy()\n",
        "print(loss_value)\n",
        "\n",
        "# What is it doing\n",
        "print((y[:1] - prediction) ** 2)"
      ],
      "metadata": {
        "colab": {
          "base_uri": "https://localhost:8080/"
        },
        "id": "r91fstnEUmbJ",
        "outputId": "5b5a683a-bc70-4ca2-f43b-85ea71b39602"
      },
      "execution_count": 20,
      "outputs": [
        {
          "output_type": "stream",
          "name": "stdout",
          "text": [
            "1131.4225\n",
            "[[1131.42236915]]\n"
          ]
        }
      ]
    },
    {
      "cell_type": "markdown",
      "source": [
        "**Compiling**\n",
        "\n",
        "AKA preparing the network for training. This involves specifying the optimiser that will be used to train the network, as well as any other hyperparameters or configurations that are needed for the training process, e.g loss function.\n",
        "\n",
        "\n",
        "\n",
        "**Optimisers**\n",
        "\n",
        "Optimisers are a key component of the training process for machine learning models, including neural networks. They are responsible for computing the gradient of the loss function with respect to the model's parameters, and using this gradient information to update the parameters in a way that reduces the loss and improves the model's performance."
      ],
      "metadata": {
        "id": "zRwgH3WSVKaD"
      }
    },
    {
      "cell_type": "code",
      "source": [
        "model.compile(\n",
        "  optimizer = 'adam', \n",
        "  loss = 'mean_absolute_error', \n",
        "  metrics = ['accuracy']\n",
        ")"
      ],
      "metadata": {
        "id": "SGG3JkzbVWWS"
      },
      "execution_count": 35,
      "outputs": []
    },
    {
      "cell_type": "markdown",
      "source": [
        "Training the model: "
      ],
      "metadata": {
        "id": "HrivirtZWTLh"
      }
    },
    {
      "cell_type": "code",
      "source": [
        "stats = model.fit(\n",
        "  X, \n",
        "  y, \n",
        "  verbose=False,\n",
        "  epochs=1000\n",
        ")"
      ],
      "metadata": {
        "id": "7X_E6TfrWSde"
      },
      "execution_count": 36,
      "outputs": []
    },
    {
      "cell_type": "code",
      "source": [
        "plt.plot(stats.history['loss'], label='loss')\n",
        "plt.xlabel('Epoch')\n",
        "plt.ylabel('Error')\n",
        "plt.legend()\n",
        "plt.grid(True)\n"
      ],
      "metadata": {
        "colab": {
          "base_uri": "https://localhost:8080/",
          "height": 290
        },
        "id": "2hwFLI2ZWski",
        "outputId": "4de30272-350b-45ae-ebf4-b335bc2abe59"
      },
      "execution_count": 37,
      "outputs": [
        {
          "output_type": "display_data",
          "data": {
            "text/plain": [
              "<Figure size 432x288 with 1 Axes>"
            ],
            "image/png": "[encoded data removed]"
          },
          "metadata": {
            "needs_background": "light"
          }
        }
      ]
    },
    {
      "cell_type": "code",
      "source": [
        "predictions = model.predict(X)\n",
        "\n",
        "plt.scatter(X, predictions, edgecolors=(0, 0, 0))\n",
        "plt.plot(X, y)"
      ],
      "metadata": {
        "colab": {
          "base_uri": "https://localhost:8080/",
          "height": 310
        },
        "id": "COWpSfRfCXVA",
        "outputId": "16d4aa8f-df89-4f66-a072-3339b7e0e41a"
      },
      "execution_count": 38,
      "outputs": [
        {
          "output_type": "stream",
          "name": "stdout",
          "text": [
            "2/2 [==============================] - 0s 4ms/step\n"
          ]
        },
        {
          "output_type": "execute_result",
          "data": {
            "text/plain": [
              "[<matplotlib.lines.Line2D at 0x7f134d31ca60>]"
            ]
          },
          "metadata": {},
          "execution_count": 38
        },
        {
          "output_type": "display_data",
          "data": {
            "text/plain": [
              "<Figure size 432x288 with 1 Axes>"
            ],
            "image/png": "[encoded data removed]"
          },
          "metadata": {
            "needs_background": "light"
          }
        }
      ]
    },
    {
      "cell_type": "markdown",
      "source": [
        "# Improvements\n",
        "Each layer in a neural network is responsible for learning a different level or abstraction of the data, and adding more layers allows the network to learn multiple levels of abstraction and represent the data at different levels of detail.\n",
        "\n",
        "Adding more neurons to a layer in a neural network increases the capacity of the network to learn and represent complex patterns in the data. Each neuron in a layer is responsible for learning and representing a different aspect or feature of the data, and adding more neurons allows the network to learn and represent more features."
      ],
      "metadata": {
        "id": "R5LVzCAQXm9h"
      }
    },
    {
      "cell_type": "code",
      "source": [
        "# Create new model\n",
        "\n",
        "model_v2 = tf.keras.models.Sequential([\n",
        "    tf.keras.layers.Dense(10, activation = \"relu\"),\n",
        "    tf.keras.layers.Dense(1)\n",
        "])\n",
        "\n",
        "model_v2.compile(\n",
        "  optimizer=tf.keras.optimizers.Adam(learning_rate=1), \n",
        "  loss='mean_squared_error',\n",
        ")\n",
        "\n",
        "stats_v2 = model_v2.fit(\n",
        "  X,\n",
        "  y, \n",
        "  verbose = False,\n",
        "  batch_size=10,\n",
        "  epochs = 2500\n",
        ")"
      ],
      "metadata": {
        "id": "uwWdOXllXogv"
      },
      "execution_count": 92,
      "outputs": []
    },
    {
      "cell_type": "code",
      "source": [
        "plt.plot(stats_v2.history['loss'], label='loss')\n",
        "plt.xlabel('Epoch')\n",
        "plt.ylabel('Error')\n",
        "plt.legend()\n",
        "plt.grid(True)"
      ],
      "metadata": {
        "colab": {
          "base_uri": "https://localhost:8080/",
          "height": 290
        },
        "id": "UYxYgcRoYQTX",
        "outputId": "a5445e29-574f-444f-c6f3-13a98564576d"
      },
      "execution_count": 93,
      "outputs": [
        {
          "output_type": "display_data",
          "data": {
            "text/plain": [
              "<Figure size 432x288 with 1 Axes>"
            ],
            "image/png": "[encoded data removed]"
          },
          "metadata": {
            "needs_background": "light"
          }
        }
      ]
    },
    {
      "cell_type": "markdown",
      "source": [
        "See how well it has fit the data"
      ],
      "metadata": {
        "id": "fvmFpXCOf5hR"
      }
    },
    {
      "cell_type": "code",
      "source": [
        "predictions_v2 = model_v2.predict(X)\n",
        "\n",
        "plt.scatter(X, predictions_v2, edgecolors=(1, 0, 0))\n",
        "plt.plot(X, y)"
      ],
      "metadata": {
        "colab": {
          "base_uri": "https://localhost:8080/",
          "height": 310
        },
        "id": "GlrU1CR9f5G_",
        "outputId": "cb10552c-0095-43ca-8b8c-56ee0f15ca09"
      },
      "execution_count": 94,
      "outputs": [
        {
          "output_type": "stream",
          "name": "stdout",
          "text": [
            "2/2 [==============================] - 0s 4ms/step\n"
          ]
        },
        {
          "output_type": "execute_result",
          "data": {
            "text/plain": [
              "[<matplotlib.lines.Line2D at 0x7f133e337c40>]"
            ]
          },
          "metadata": {},
          "execution_count": 94
        },
        {
          "output_type": "display_data",
          "data": {
            "text/plain": [
              "<Figure size 432x288 with 1 Axes>"
            ],
            "image/png": "[encoded data removed]"
          },
          "metadata": {
            "needs_background": "light"
          }
        }
      ]
    }
  ]
}