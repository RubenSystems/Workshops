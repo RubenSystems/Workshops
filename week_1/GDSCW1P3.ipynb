{
  "nbformat": 4,
  "nbformat_minor": 0,
  "metadata": {
    "colab": {
      "provenance": []
    },
    "kernelspec": {
      "name": "python3",
      "display_name": "Python 3"
    },
    "language_info": {
      "name": "python"
    }
  },
  "cells": [
    {
      "cell_type": "markdown",
      "source": [
        "# Classifiers, Autoencoders, Transfer Learning and More...\n",
        "\n",
        "\n",
        "ChatGPT"
      ],
      "metadata": {
        "id": "Meepe8AxpkIn"
      }
    },
    {
      "cell_type": "code",
      "source": [
        "import tensorflow as tf\n",
        "import numpy as np\n",
        "import matplotlib.pyplot as plt"
      ],
      "metadata": {
        "id": "R3VjhF9Zp-Sj"
      },
      "execution_count": 1,
      "outputs": []
    },
    {
      "cell_type": "code",
      "source": [
        "mnist = tf.keras.datasets.mnist\n",
        "\n",
        "(train_images, train_labels), (test_images, test_labels) = mnist.load_data()"
      ],
      "metadata": {
        "id": "hK9Zfbs6qLWv",
        "colab": {
          "base_uri": "https://localhost:8080/"
        },
        "outputId": "513514c8-c67f-4ce7-b7bb-aaa5c04d5a24"
      },
      "execution_count": 2,
      "outputs": [
        {
          "output_type": "stream",
          "name": "stdout",
          "text": [
            "Downloading data from https://storage.googleapis.com/tensorflow/tf-keras-datasets/mnist.npz\n",
            "11490434/11490434 [==============================] - 0s 0us/step\n"
          ]
        }
      ]
    },
    {
      "cell_type": "markdown",
      "source": [
        "Example image from the dataset:"
      ],
      "metadata": {
        "id": "FHEmwLEMqf3k"
      }
    },
    {
      "cell_type": "code",
      "source": [
        "image_index = 200\n",
        "\n",
        "plt.figure()\n",
        "plt.imshow(train_images[image_index], cmap=plt.cm.binary)\n",
        "plt.xlabel(train_labels[image_index])\n",
        "plt.show()"
      ],
      "metadata": {
        "colab": {
          "base_uri": "https://localhost:8080/",
          "height": 279
        },
        "id": "gofuN2iIqbs1",
        "outputId": "0d8fd427-431c-4da7-9a4f-5535206d1901"
      },
      "execution_count": 3,
      "outputs": [
        {
          "output_type": "display_data",
          "data": {
            "text/plain": [
              "<Figure size 432x288 with 1 Axes>"
            ],
            "image/png": "[encoded data removed]"
          },
          "metadata": {
            "needs_background": "light"
          }
        }
      ]
    },
    {
      "cell_type": "markdown",
      "source": [
        "Convert to a more usable format "
      ],
      "metadata": {
        "id": "WUKtj_OVqs7B"
      }
    },
    {
      "cell_type": "code",
      "source": [
        "train_images = (train_images / 255.0).astype(\"float32\") \n",
        "test_images = (test_images / 255.0).astype(\"float32\")\n",
        "\n",
        "# 255 => 1 \n",
        "# 0 => 0 \n",
        "# 127.5 => 0.5"
      ],
      "metadata": {
        "id": "iRvALnbPqve0"
      },
      "execution_count": 4,
      "outputs": []
    },
    {
      "cell_type": "markdown",
      "source": [
        "# Define the model \n",
        "\n",
        "Autoencoders typically compress the data before decompressing it. \n"
      ],
      "metadata": {
        "id": "Xj47oG5CrZTr"
      }
    },
    {
      "cell_type": "code",
      "source": [
        "image_width = train_images.shape[1]\n",
        "image_height = train_images.shape[2]\n",
        "\n",
        "train_images.shape"
      ],
      "metadata": {
        "id": "1m91Bfg7r-Iz",
        "colab": {
          "base_uri": "https://localhost:8080/"
        },
        "outputId": "6d8a21bc-31d4-479c-af03-ba58fdd46f36"
      },
      "execution_count": 5,
      "outputs": [
        {
          "output_type": "execute_result",
          "data": {
            "text/plain": [
              "(60000, 28, 28)"
            ]
          },
          "metadata": {},
          "execution_count": 5
        }
      ]
    },
    {
      "cell_type": "code",
      "source": [
        "model = tf.keras.Sequential([\n",
        "    tf.keras.layers.Flatten(input_shape=(image_width, image_height)),\n",
        "    tf.keras.layers.Dense(128, activation='relu'),\n",
        "    tf.keras.layers.Dense(10),\n",
        "    tf.keras.layers.Softmax()\n",
        "])"
      ],
      "metadata": {
        "id": "3JaFER_XrX_p"
      },
      "execution_count": 6,
      "outputs": []
    },
    {
      "cell_type": "code",
      "source": [
        "model.compile(\n",
        "    optimizer='adam',\n",
        "    loss=tf.keras.losses.SparseCategoricalCrossentropy(),\n",
        ")"
      ],
      "metadata": {
        "id": "9FSw09-0s6Np"
      },
      "execution_count": 7,
      "outputs": []
    },
    {
      "cell_type": "code",
      "source": [
        "stats = model.fit(\n",
        "  train_images, \n",
        "  train_labels,\n",
        "  epochs=10,\n",
        "  verbose= False\n",
        ")"
      ],
      "metadata": {
        "id": "aOy0FnvEtHB9"
      },
      "execution_count": 8,
      "outputs": []
    },
    {
      "cell_type": "code",
      "source": [
        "plt.plot(stats.history['loss'], label='loss')\n",
        "plt.xlabel('Epoch')\n",
        "plt.ylabel('Error')\n",
        "plt.legend()\n",
        "plt.grid(True)"
      ],
      "metadata": {
        "colab": {
          "base_uri": "https://localhost:8080/",
          "height": 279
        },
        "id": "_Ro94pKxvakl",
        "outputId": "4bdc1409-5290-425d-ec7c-9fd2b7708af3"
      },
      "execution_count": 9,
      "outputs": [
        {
          "output_type": "display_data",
          "data": {
            "text/plain": [
              "<Figure size 432x288 with 1 Axes>"
            ],
            "image/png": "[encoded data removed]"
          },
          "metadata": {
            "needs_background": "light"
          }
        }
      ]
    },
    {
      "cell_type": "code",
      "source": [
        "predict_value = 1\n",
        "\n",
        "prediction_first_val = model.predict(np.array([test_images[predict_value]]))\n",
        "\n",
        "print(prediction_first_val[0])\n",
        "print()\n",
        "print(sum(prediction_first_val[0]))"
      ],
      "metadata": {
        "colab": {
          "base_uri": "https://localhost:8080/"
        },
        "id": "lhTU17sBvjtQ",
        "outputId": "2f4abf6a-c1f9-4bac-a537-08dcaea59b67"
      },
      "execution_count": 10,
      "outputs": [
        {
          "output_type": "stream",
          "name": "stdout",
          "text": [
            "1/1 [==============================] - 0s 70ms/step\n",
            "[2.7607066e-12 1.3526965e-05 9.9998605e-01 1.8497455e-07 5.1874952e-19\n",
            " 1.0807661e-08 4.2080658e-12 3.9674800e-19 2.3684974e-07 2.2306928e-15]\n",
            "\n",
            "1.000000012116773\n"
          ]
        }
      ]
    },
    {
      "cell_type": "markdown",
      "source": [
        "Get the predicted value: "
      ],
      "metadata": {
        "id": "rWgzepmOwVZc"
      }
    },
    {
      "cell_type": "code",
      "source": [
        "print(np.argmax(prediction_first_val), test_labels[predict_value])"
      ],
      "metadata": {
        "colab": {
          "base_uri": "https://localhost:8080/"
        },
        "id": "v7fcILEPwXIG",
        "outputId": "934d05e8-d7c7-4b10-dab5-9cfd964f9d40"
      },
      "execution_count": 11,
      "outputs": [
        {
          "output_type": "stream",
          "name": "stdout",
          "text": [
            "2 2\n"
          ]
        }
      ]
    },
    {
      "cell_type": "markdown",
      "source": [
        "# Autoencoders"
      ],
      "metadata": {
        "id": "qVvkyyp0wIi0"
      }
    },
    {
      "cell_type": "markdown",
      "source": [
        "**Generative machine learning**\n",
        "\n",
        "Rather than discriminative"
      ],
      "metadata": {
        "id": "hSToeEUKwLrU"
      }
    },
    {
      "cell_type": "code",
      "source": [
        "latent_dim = 128\n",
        "\n",
        "reduction = (latent_dim - (image_width * image_height)) / (image_width * image_height)\n",
        "\n",
        "print(f\"{abs(reduction * 100)}%\")"
      ],
      "metadata": {
        "colab": {
          "base_uri": "https://localhost:8080/"
        },
        "id": "90MxJ5HhzN6A",
        "outputId": "ba11483b-c0f7-4346-b3ec-1836210bf1ea"
      },
      "execution_count": 56,
      "outputs": [
        {
          "output_type": "stream",
          "name": "stdout",
          "text": [
            "83.6734693877551%\n"
          ]
        }
      ]
    },
    {
      "cell_type": "code",
      "source": [
        "class Autoencoder(tf.keras.models.Model):\n",
        "  def __init__(self, latent_dim):\n",
        "    super(Autoencoder, self).__init__()\n",
        "\n",
        "    self.encoder = tf.keras.Sequential([\n",
        "       tf.keras.layers.Flatten(),\n",
        "       tf.keras.layers.Dense(128, activation='relu'),\n",
        "       tf.keras.layers.Dense(latent_dim, activation='relu'),\n",
        "    ])\n",
        "\n",
        "    self.decoder = tf.keras.Sequential([\n",
        "      tf.keras.layers.Dense(128, activation='relu'),\n",
        "      tf.keras.layers.Dense(image_width * image_height, activation='sigmoid'),\n",
        "      tf.keras.layers.Reshape((image_width, image_height))\n",
        "    ])\n",
        "\n",
        "  def call(self, x):\n",
        "    encoded = self.encoder(x)\n",
        "    decoded = self.decoder(encoded)\n",
        "    return decoded"
      ],
      "metadata": {
        "id": "x-gcxx90xJZP"
      },
      "execution_count": 57,
      "outputs": []
    },
    {
      "cell_type": "code",
      "source": [
        "autoencoder = Autoencoder(latent_dim)"
      ],
      "metadata": {
        "id": "UBw5h97Yxh4U"
      },
      "execution_count": 58,
      "outputs": []
    },
    {
      "cell_type": "code",
      "source": [
        "autoencoder.compile(optimizer='adam', loss=\"mean_squared_error\")"
      ],
      "metadata": {
        "id": "mDUuzRoMxr0C"
      },
      "execution_count": 59,
      "outputs": []
    },
    {
      "cell_type": "code",
      "source": [
        "stats = autoencoder.fit(\n",
        "    train_images, \n",
        "    train_images,\n",
        "    epochs=10,\n",
        "    shuffle=True,\n",
        "    validation_data=(test_images, test_images)\n",
        ")"
      ],
      "metadata": {
        "colab": {
          "base_uri": "https://localhost:8080/"
        },
        "id": "DDB0nbroxvij",
        "outputId": "f41bf9c1-27b7-4e04-b33e-add59649e29e"
      },
      "execution_count": 60,
      "outputs": [
        {
          "output_type": "stream",
          "name": "stdout",
          "text": [
            "Epoch 1/10\n",
            "1875/1875 [==============================] - 10s 5ms/step - loss: 0.0211 - val_loss: 0.0096\n",
            "Epoch 2/10\n",
            "1875/1875 [==============================] - 10s 5ms/step - loss: 0.0083 - val_loss: 0.0069\n",
            "Epoch 3/10\n",
            "1875/1875 [==============================] - 12s 6ms/step - loss: 0.0064 - val_loss: 0.0057\n",
            "Epoch 4/10\n",
            "1875/1875 [==============================] - 11s 6ms/step - loss: 0.0055 - val_loss: 0.0050\n",
            "Epoch 5/10\n",
            "1875/1875 [==============================] - 10s 5ms/step - loss: 0.0049 - val_loss: 0.0045\n",
            "Epoch 6/10\n",
            "1875/1875 [==============================] - 11s 6ms/step - loss: 0.0045 - val_loss: 0.0043\n",
            "Epoch 7/10\n",
            "1875/1875 [==============================] - 11s 6ms/step - loss: 0.0042 - val_loss: 0.0039\n",
            "Epoch 8/10\n",
            "1875/1875 [==============================] - 10s 5ms/step - loss: 0.0039 - val_loss: 0.0037\n",
            "Epoch 9/10\n",
            "1875/1875 [==============================] - 10s 5ms/step - loss: 0.0037 - val_loss: 0.0035\n",
            "Epoch 10/10\n",
            "1875/1875 [==============================] - 10s 5ms/step - loss: 0.0035 - val_loss: 0.0033\n"
          ]
        }
      ]
    },
    {
      "cell_type": "code",
      "source": [
        "plt.plot(stats.history['loss'], label='loss')\n",
        "plt.xlabel('Epoch')\n",
        "plt.ylabel('Error')\n",
        "plt.legend()\n",
        "plt.grid(True)"
      ],
      "metadata": {
        "colab": {
          "base_uri": "https://localhost:8080/",
          "height": 279
        },
        "id": "lW1GZEON0H26",
        "outputId": "1f6161ff-419e-4571-f147-a6a222c6e4ad"
      },
      "execution_count": 61,
      "outputs": [
        {
          "output_type": "display_data",
          "data": {
            "text/plain": [
              "<Figure size 432x288 with 1 Axes>"
            ],
            "image/png": "[encoded data removed]"
          },
          "metadata": {
            "needs_background": "light"
          }
        }
      ]
    },
    {
      "cell_type": "markdown",
      "source": [
        "Try compression and then decompression"
      ],
      "metadata": {
        "id": "5kpsLUAT0ySQ"
      }
    },
    {
      "cell_type": "code",
      "source": [
        "encoded_imgs = autoencoder.encoder(test_images).numpy()\n",
        "decoded_imgs = autoencoder.decoder(encoded_imgs).numpy()"
      ],
      "metadata": {
        "id": "YYp-Ju-y01dY"
      },
      "execution_count": 62,
      "outputs": []
    },
    {
      "cell_type": "code",
      "source": [
        "n = 10\n",
        "plt.figure(figsize=(20, 4))\n",
        "for i in range(n):\n",
        "  ax = plt.subplot(2, n, i + 1)\n",
        "  plt.imshow(test_images[i])\n",
        "  plt.title(\"original\")\n",
        "  plt.gray()\n",
        "  ax.get_xaxis().set_visible(False)\n",
        "  ax.get_yaxis().set_visible(False)\n",
        "\n",
        "  # display reconstruction\n",
        "  ax = plt.subplot(2, n, i + 1 + n)\n",
        "  plt.imshow(decoded_imgs[i])\n",
        "  plt.title(\"reconstructed\")\n",
        "  plt.gray()\n",
        "  ax.get_xaxis().set_visible(False)\n",
        "  ax.get_yaxis().set_visible(False)\n",
        "plt.show()"
      ],
      "metadata": {
        "colab": {
          "base_uri": "https://localhost:8080/",
          "height": 264
        },
        "id": "ZOyREGam084p",
        "outputId": "e0049249-e671-411e-e2e5-25586256dfb5"
      },
      "execution_count": 63,
      "outputs": [
        {
          "output_type": "display_data",
          "data": {
            "text/plain": [
              "<Figure size 1440x288 with 20 Axes>"
            ],
            "image/png": "[encoded data removed]"
          },
          "metadata": {
            "needs_background": "light"
          }
        }
      ]
    },
    {
      "cell_type": "markdown",
      "source": [
        "**Transfer Learning**\n",
        "\n",
        "Finetuning previous models that have been pretrained\n",
        "\n",
        "Less boring wait times"
      ],
      "metadata": {
        "id": "2SRfvmStRzIc"
      }
    },
    {
      "cell_type": "code",
      "source": [
        "transfer_model = tf.keras.Sequential([\n",
        "    autoencoder.encoder,\n",
        "    tf.keras.layers.Dense(2),\n",
        "    tf.keras.layers.Softmax()\n",
        "])"
      ],
      "metadata": {
        "id": "b-fMLu6oAICx"
      },
      "execution_count": 20,
      "outputs": []
    },
    {
      "cell_type": "code",
      "source": [
        "transfer_model.compile(\n",
        "    optimizer='adam',\n",
        "    loss=tf.keras.losses.SparseCategoricalCrossentropy(),\n",
        "    metrics=['accuracy']\n",
        ")"
      ],
      "metadata": {
        "id": "QfqRSspDSPgS"
      },
      "execution_count": 21,
      "outputs": []
    },
    {
      "cell_type": "code",
      "source": [
        "binary_data = np.array([\n",
        "    0 if x < 5 else 1 \n",
        "    for x in train_labels\n",
        "])\n",
        "\n",
        "print(binary_data)"
      ],
      "metadata": {
        "colab": {
          "base_uri": "https://localhost:8080/"
        },
        "id": "acP31DWGdei9",
        "outputId": "67172c9e-fd53-47bd-b8f4-975bd32af0c1"
      },
      "execution_count": 22,
      "outputs": [
        {
          "output_type": "stream",
          "name": "stdout",
          "text": [
            "[1 0 0 ... 1 1 1]\n"
          ]
        }
      ]
    },
    {
      "cell_type": "code",
      "source": [
        "stats_v3 = transfer_model.fit(\n",
        "  train_images, \n",
        "  binary_data,\n",
        "  epochs=1,\n",
        "  verbose= True\n",
        ")"
      ],
      "metadata": {
        "id": "ASxO87uDSUPb",
        "colab": {
          "base_uri": "https://localhost:8080/"
        },
        "outputId": "a65ce634-5cb6-4f1a-812c-e6ff6fd7ef39"
      },
      "execution_count": 23,
      "outputs": [
        {
          "output_type": "stream",
          "name": "stdout",
          "text": [
            "1875/1875 [==============================] - 6s 3ms/step - loss: 0.1973 - accuracy: 0.9357\n"
          ]
        }
      ]
    },
    {
      "cell_type": "code",
      "source": [
        "image_to_predict = 50\n",
        "\n",
        "image = np.array([test_images[image_to_predict]])\n",
        "\n",
        "\n",
        "prediction_first_val_v2 = transfer_model.predict(image)\n",
        "\n",
        "print(f\"VALUE: \\t\\t{test_labels[image_to_predict]}\")\n",
        "print(f\"PREDICTION: \\t{np.argmax(prediction_first_val_v2)}\")"
      ],
      "metadata": {
        "colab": {
          "base_uri": "https://localhost:8080/"
        },
        "id": "NmMgNF0ETDaB",
        "outputId": "de5a5a07-1248-40cc-ef2b-5ebffd8b9416"
      },
      "execution_count": 24,
      "outputs": [
        {
          "output_type": "stream",
          "name": "stdout",
          "text": [
            "1/1 [==============================] - 0s 72ms/step\n",
            "VALUE: \t\t6\n",
            "PREDICTION: \t1\n"
          ]
        }
      ]
    },
    {
      "cell_type": "markdown",
      "source": [
        "**Generating images of numbers**"
      ],
      "metadata": {
        "id": "lSgfbklH4rz0"
      }
    },
    {
      "cell_type": "code",
      "source": [
        "generator_model = tf.keras.Sequential([\n",
        "    tf.keras.layers.Dense(latent_dim, activation='relu'),\n",
        "    autoencoder.decoder,\n",
        "])"
      ],
      "metadata": {
        "id": "_skW3K0f41pz"
      },
      "execution_count": 64,
      "outputs": []
    },
    {
      "cell_type": "code",
      "source": [
        "generator_model.compile(\n",
        "    optimizer='adam',\n",
        "    loss='mean_squared_error',\n",
        "    metrics=['accuracy']\n",
        ")"
      ],
      "metadata": {
        "id": "uOjOsogN5m2u"
      },
      "execution_count": 65,
      "outputs": []
    },
    {
      "cell_type": "code",
      "source": [
        "def one_hot(value: int, size: int):\n",
        "  return [0 if x != value else 1 for x in range(size)]\n",
        "\n",
        "one_hot_labels = np.array([\n",
        "    one_hot(x, 10)\n",
        "    for x in train_labels\n",
        "])"
      ],
      "metadata": {
        "id": "aBWF8bZk5_G1"
      },
      "execution_count": 66,
      "outputs": []
    },
    {
      "cell_type": "code",
      "source": [
        "one_hot_labels"
      ],
      "metadata": {
        "colab": {
          "base_uri": "https://localhost:8080/"
        },
        "id": "SAXiRymY67D2",
        "outputId": "abb88533-2a30-44b7-a48a-3cb1e005a591"
      },
      "execution_count": 67,
      "outputs": [
        {
          "output_type": "execute_result",
          "data": {
            "text/plain": [
              "array([[0, 0, 0, ..., 0, 0, 0],\n",
              "       [1, 0, 0, ..., 0, 0, 0],\n",
              "       [0, 0, 0, ..., 0, 0, 0],\n",
              "       ...,\n",
              "       [0, 0, 0, ..., 0, 0, 0],\n",
              "       [0, 0, 0, ..., 0, 0, 0],\n",
              "       [0, 0, 0, ..., 0, 1, 0]])"
            ]
          },
          "metadata": {},
          "execution_count": 67
        }
      ]
    },
    {
      "cell_type": "code",
      "source": [
        "stats_v4 = generator_model.fit(\n",
        "  one_hot_labels, \n",
        "  train_images,\n",
        "  epochs=5,\n",
        "  verbose= True\n",
        ")"
      ],
      "metadata": {
        "colab": {
          "base_uri": "https://localhost:8080/"
        },
        "id": "_uUJrsZI5unn",
        "outputId": "24440da4-a7d5-4ec9-a147-ba3881685ffb"
      },
      "execution_count": 68,
      "outputs": [
        {
          "output_type": "stream",
          "name": "stdout",
          "text": [
            "Epoch 1/5\n",
            "1875/1875 [==============================] - 8s 4ms/step - loss: 0.0551 - accuracy: 0.1082\n",
            "Epoch 2/5\n",
            "1875/1875 [==============================] - 8s 4ms/step - loss: 0.0536 - accuracy: 0.1121\n",
            "Epoch 3/5\n",
            "1875/1875 [==============================] - 7s 4ms/step - loss: 0.0535 - accuracy: 0.1119\n",
            "Epoch 4/5\n",
            "1875/1875 [==============================] - 7s 4ms/step - loss: 0.0535 - accuracy: 0.1117\n",
            "Epoch 5/5\n",
            "1875/1875 [==============================] - 7s 4ms/step - loss: 0.0535 - accuracy: 0.1114\n"
          ]
        }
      ]
    },
    {
      "cell_type": "markdown",
      "source": [
        "Show generated images"
      ],
      "metadata": {
        "id": "slYtJkWn7oxr"
      }
    },
    {
      "cell_type": "code",
      "source": [
        "image_labels_to_generate = [\n",
        "    one_hot(x, 10)\n",
        "    for x in range(10)\n",
        "]\n",
        "\n",
        "image_labels_to_generate += [[1,0,1,0,0,0,0,0,0,0]]\n",
        "\n",
        "generated_images = generator_model.predict(np.array(\n",
        "  image_labels_to_generate\n",
        "))\n",
        "\n",
        "\n",
        "plt.figure(figsize=(20, 4))\n",
        "for i, image in enumerate(generated_images):\n",
        "\n",
        "  ax = plt.subplot(2, n, i + 1)\n",
        "  plt.imshow(image)\n",
        "\n",
        "  plt.gray()\n",
        "  ax.get_xaxis().set_visible(False)\n",
        "  ax.get_yaxis().set_visible(False)\n",
        "\n",
        "plt.show()"
      ],
      "metadata": {
        "colab": {
          "base_uri": "https://localhost:8080/",
          "height": 265
        },
        "id": "5s4BK4vF7q06",
        "outputId": "87472d1f-e2a9-4feb-b0ba-4cc18e11c82d"
      },
      "execution_count": 69,
      "outputs": [
        {
          "output_type": "stream",
          "name": "stdout",
          "text": [
            "1/1 [==============================] - 0s 85ms/step\n"
          ]
        },
        {
          "output_type": "display_data",
          "data": {
            "text/plain": [
              "<Figure size 1440x288 with 11 Axes>"
            ],
            "image/png": "[encoded data removed]"
          },
          "metadata": {
            "needs_background": "light"
          }
        }
      ]
    }
  ]
}